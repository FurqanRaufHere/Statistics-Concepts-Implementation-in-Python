{
 "cells": [
  {
   "cell_type": "markdown",
   "metadata": {
    "id": "b2KIfAZcUauz"
   },
   "source": []
  },
  {
   "cell_type": "markdown",
   "metadata": {
    "id": "eZY5yyH2Vhhy"
   },
   "source": [
    "###           Probability and Statistics Assignment\n",
    "\n",
    "Name: Muhammad Furqan Rauf\n",
    "\n",
    "Date: 16/11/2024\n"
   ]
  },
  {
   "cell_type": "markdown",
   "metadata": {
    "id": "qK_jZ8bsWK78"
   },
   "source": [
    "### This code performs the following statistical operations on a dataset of randomly generated numbers:\n",
    "\n",
    "1. Generate and Sort Random Numbers\n",
    "2. Find Maximum and Minimum Values\n",
    "3. Calculate the Range\n",
    "4. Define Number of Classes and Class Width\n",
    "5. Determine Class Boundaries\n",
    "\n",
    "Comments are also added for better readibility of code\n",
    "\n",
    "\n"
   ]
  },
  {
   "cell_type": "code",
   "execution_count": 13,
   "metadata": {
    "colab": {
     "base_uri": "https://localhost:8080/"
    },
    "id": "WFEVV0f2aHfS",
    "outputId": "0629ba03-6483-4eaa-b52c-c91d197bb2b6"
   },
   "outputs": [
    {
     "name": "stdout",
     "output_type": "stream",
     "text": [
      "Sorted Random Numbers: [1, 3, 9, 10, 14, 16, 22, 24, 25, 26, 27, 34, 44, 48, 50, 55, 55, 56, 58, 58, 60, 62, 78, 79, 80, 82, 83, 88, 95, 99]\n",
      "Maximum Value: 99\n",
      "Minimum Value: 1\n",
      "Range: 98\n",
      "Class Boundaries:\n",
      "0.5 - 20.5\n",
      "20.5 - 40.5\n",
      "40.5 - 60.5\n",
      "60.5 - 80.5\n",
      "80.5 - 100.5\n"
     ]
    }
   ],
   "source": [
    "import random\n",
    "from scipy.stats import gmean  # For geometric mean\n",
    "from statistics import harmonic_mean, median, mode  # For harmonic mean, median, mode\n",
    "\n",
    "# Generate and sort random numbers\n",
    "random_numbers = [random.randint(1, 100) for _ in range(30)]\n",
    "sorted_numbers = sorted(random_numbers)\n",
    "\n",
    "print(\"Sorted Random Numbers:\", sorted_numbers)\n",
    "\n",
    "# Find max and min values\n",
    "max_value = max(sorted_numbers)\n",
    "min_value = min(sorted_numbers)\n",
    "\n",
    "print(\"Maximum Value:\", max_value)\n",
    "print(\"Minimum Value:\", min_value)\n",
    "\n",
    "# Calculate the range\n",
    "data_range = max_value - min_value\n",
    "\n",
    "print(\"Range:\", data_range)\n",
    "\n",
    "# Define the number of classes and calculate class width\n",
    "num_classes = 5\n",
    "class_width = (data_range // num_classes) + 1  # Round up for inclusive classes\n",
    "\n",
    "# Calculate class boundaries\n",
    "class_boundaries = []\n",
    "current_lower = min_value - 0.5  # Adjust to start with a lower boundary\n",
    "for i in range(num_classes):\n",
    "    current_upper = current_lower + class_width  # Upper boundary of the class\n",
    "    class_boundaries.append((round(current_lower, 1), round(current_upper, 1)))\n",
    "    current_lower = current_upper  # Next class starts at the previous upper boundary\n",
    "\n",
    "print(\"Class Boundaries:\")\n",
    "for lower, upper in class_boundaries:\n",
    "    print(f\"{lower} - {upper}\")"
   ]
  },
  {
   "cell_type": "markdown",
   "metadata": {
    "id": "b6XxSse4bRzH"
   },
   "source": [
    "\n",
    "\n",
    "### Arithematic Mean, Geometric Mean and Harmonic Mean:\n",
    "\n",
    "Now we are calculating the Arithematic Mean, Geometric Mean and Harmonic Mean."
   ]
  },
  {
   "cell_type": "code",
   "execution_count": 12,
   "metadata": {
    "colab": {
     "base_uri": "https://localhost:8080/"
    },
    "id": "9HENDKM5bgRk",
    "outputId": "92368e3d-8609-49f5-af6e-8c75efe55bd1"
   },
   "outputs": [
    {
     "name": "stdout",
     "output_type": "stream",
     "text": [
      "Arithmetic Mean: 57.13\n",
      "Geometric Mean: 43.64\n",
      "Harmonic Mean: 20.12\n"
     ]
    }
   ],
   "source": [
    "# Calculate arithmetic mean\n",
    "arithmetic_mean = sum(sorted_numbers) / len(sorted_numbers)\n",
    "print(\"Arithmetic Mean:\", round(arithmetic_mean, 2))\n",
    "\n",
    "# Calculate geometric mean\n",
    "geometric_mean = gmean(sorted_numbers)\n",
    "print(\"Geometric Mean:\", round(geometric_mean, 2))\n",
    "\n",
    "# Calculate harmonic mean\n",
    "harmonic_mean_value = harmonic_mean(sorted_numbers)\n",
    "print(\"Harmonic Mean:\", round(harmonic_mean_value, 2))"
   ]
  },
  {
   "cell_type": "markdown",
   "metadata": {
    "id": "8tm8R7s8cQIa"
   },
   "source": [
    "\n",
    "\n",
    "### Median and Mode:\n"
   ]
  },
  {
   "cell_type": "code",
   "execution_count": 14,
   "metadata": {
    "colab": {
     "base_uri": "https://localhost:8080/"
    },
    "id": "k2BmOplBcWbO",
    "outputId": "2df49758-93fa-444a-fd4e-e1e9bb0b6443"
   },
   "outputs": [
    {
     "name": "stdout",
     "output_type": "stream",
     "text": [
      "Median: 52.5\n",
      "Mode: 55\n"
     ]
    }
   ],
   "source": [
    "# Calculate median\n",
    "median_value = median(sorted_numbers)\n",
    "print(\"Median:\", median_value)\n",
    "\n",
    "# Calculate mode\n",
    "mode_value = mode(sorted_numbers)\n",
    "print(\"Mode:\", mode_value)"
   ]
  },
  {
   "cell_type": "markdown",
   "metadata": {
    "id": "Fw5-SE3YdFEw"
   },
   "source": [
    "\n",
    "### Quartiles, Deciles and Percentiles:\n"
   ]
  },
  {
   "cell_type": "code",
   "execution_count": 15,
   "metadata": {
    "colab": {
     "base_uri": "https://localhost:8080/"
    },
    "id": "2D8Szl41dMVF",
    "outputId": "b444b642-6d3e-4c56-e9cd-20f323814a93"
   },
   "outputs": [
    {
     "name": "stdout",
     "output_type": "stream",
     "text": [
      "Quartiles:\n",
      "Q1 (25th Percentile): 24.25\n",
      "Q2 (Median, 50th Percentile): 52.5\n",
      "Q3 (75th Percentile): 74.0\n",
      "\n",
      "Deciles:\n",
      "D1 (Decile 10th Percentile): 9.9\n",
      "D2 (Decile 20th Percentile): 20.800000000000004\n",
      "D3 (Decile 30th Percentile): 25.7\n",
      "D4 (Decile 40th Percentile): 40.000000000000014\n",
      "D5 (Decile 50th Percentile): 52.5\n",
      "D6 (Decile 60th Percentile): 56.8\n",
      "D7 (Decile 70th Percentile): 60.599999999999994\n",
      "D8 (Decile 80th Percentile): 79.2\n",
      "D9 (Decile 90th Percentile): 83.5\n",
      "D10 (Decile 100th Percentile): 99.0\n",
      "\n",
      "Percentiles:\n",
      "P1 (Percentile 1%): 1.58\n",
      "P25 (Percentile 25%): 24.25\n",
      "P50 (Percentile 50%): 52.5\n",
      "P75 (Percentile 75%): 74.0\n",
      "P99 (Percentile 99%): 97.84\n"
     ]
    }
   ],
   "source": [
    "import numpy as np\n",
    "\n",
    "# Step 6: Calculate Quartiles\n",
    "q1 = np.percentile(sorted_numbers, 25)  # 25th percentile\n",
    "q2 = np.percentile(sorted_numbers, 50)  # 50th percentile (Median)\n",
    "q3 = np.percentile(sorted_numbers, 75)  # 75th percentile\n",
    "\n",
    "print(\"Quartiles:\")\n",
    "print(f\"Q1 (25th Percentile): {q1}\")\n",
    "print(f\"Q2 (Median, 50th Percentile): {q2}\")\n",
    "print(f\"Q3 (75th Percentile): {q3}\")\n",
    "\n",
    "# Step 7: Calculate Deciles\n",
    "print(\"\\nDeciles:\")\n",
    "for d in range(1, 11):  # Deciles from D1 to D10\n",
    "    decile = np.percentile(sorted_numbers, d * 10)\n",
    "    print(f\"D{d} (Decile {d * 10}th Percentile): {decile}\")\n",
    "\n",
    "# Step 8: Calculate Percentiles\n",
    "print(\"\\nPercentiles:\")\n",
    "percentile_values = [1, 25, 50, 75, 99]  # Example percentiles to calculate\n",
    "for p in percentile_values:\n",
    "    percentile = np.percentile(sorted_numbers, p)\n",
    "    print(f\"P{p} (Percentile {p}%): {percentile}\")\n"
   ]
  },
  {
   "cell_type": "markdown",
   "metadata": {
    "id": "w7XpZqTkdyog"
   },
   "source": [
    "\n",
    "### Quartile Deviation, Mean Deviation and Standard Deviation\n"
   ]
  },
  {
   "cell_type": "code",
   "execution_count": 16,
   "metadata": {
    "colab": {
     "base_uri": "https://localhost:8080/"
    },
    "id": "YaNJvyR1d8bD",
    "outputId": "4ecf1551-757e-4e81-9ffe-c9731e365cba"
   },
   "outputs": [
    {
     "name": "stdout",
     "output_type": "stream",
     "text": [
      "Quartile Deviation: 24.88\n",
      "Mean Deviation: 24.63\n",
      "Standard Deviation: 28.68\n"
     ]
    }
   ],
   "source": [
    "import numpy as np\n",
    "\n",
    "# Quartile Deviation\n",
    "q1 = np.percentile(sorted_numbers, 25)\n",
    "q3 = np.percentile(sorted_numbers, 75)\n",
    "quartile_deviation = (q3 - q1) / 2\n",
    "\n",
    "print(\"Quartile Deviation:\", round(quartile_deviation, 2))\n",
    "\n",
    "# Mean Deviation\n",
    "mean_value = sum(sorted_numbers) / len(sorted_numbers)  # Arithmetic mean\n",
    "mean_deviation = sum(abs(x - mean_value) for x in sorted_numbers) / len(sorted_numbers)\n",
    "\n",
    "print(\"Mean Deviation:\", round(mean_deviation, 2))\n",
    "\n",
    "# Standard Deviation\n",
    "# Using numpy's built-in function for standard deviation\n",
    "standard_deviation = np.std(sorted_numbers, ddof=0)  # Population standard deviation\n",
    "print(\"Standard Deviation:\", round(standard_deviation, 2))\n"
   ]
  },
  {
   "cell_type": "markdown",
   "metadata": {
    "id": "W-c8Tv4ZfLFQ"
   },
   "source": [
    "### Variance and Coefficient of Variation"
   ]
  },
  {
   "cell_type": "code",
   "execution_count": 18,
   "metadata": {
    "colab": {
     "base_uri": "https://localhost:8080/"
    },
    "id": "m_FWzx2rfOKp",
    "outputId": "cd443eae-5df4-4b83-bef1-d169d48d47bc"
   },
   "outputs": [
    {
     "name": "stdout",
     "output_type": "stream",
     "text": [
      "Variance: 822.63\n",
      "Coefficient of Variation: 59.71 %\n"
     ]
    }
   ],
   "source": [
    "# Variance\n",
    "variance = np.var(sorted_numbers, ddof=0)  # Population variance\n",
    "print(\"Variance:\", round(variance, 2))\n",
    "\n",
    "# Coefficient of Variation\n",
    "coefficient_of_variation = (standard_deviation / mean_value) * 100\n",
    "print(\"Coefficient of Variation:\", round(coefficient_of_variation, 2), \"%\")\n"
   ]
  },
  {
   "cell_type": "markdown",
   "metadata": {
    "id": "HxAMXwhhfS5F"
   },
   "source": [
    "\n",
    "\n",
    "\n",
    "### Skewness and Kurtosis:\n"
   ]
  },
  {
   "cell_type": "code",
   "execution_count": 19,
   "metadata": {
    "colab": {
     "base_uri": "https://localhost:8080/"
    },
    "id": "PwW3kFZ8hj9M",
    "outputId": "a0d7396e-551c-46e5-f151-37d8e16da8c0"
   },
   "outputs": [
    {
     "name": "stdout",
     "output_type": "stream",
     "text": [
      "Skewness: 0.04\n",
      "Kurtosis: -1.17\n"
     ]
    }
   ],
   "source": [
    "from scipy.stats import kurtosis, skew\n",
    "\n",
    "# Skewness\n",
    "skewness = skew(sorted_numbers)\n",
    "print(\"Skewness:\", round(skewness, 2))\n",
    "\n",
    "# Kurtosis\n",
    "kurt = kurtosis(sorted_numbers, fisher=True)  # Fisher=True subtracts 3 for comparison to normal distribution\n",
    "print(\"Kurtosis:\", round(kurt, 2))\n"
   ]
  },
  {
   "cell_type": "markdown",
   "metadata": {
    "id": "9hCGGaSHhuzG"
   },
   "source": [
    "### Measures of Skewness and Kurtosis Using Moments"
   ]
  },
  {
   "cell_type": "code",
   "execution_count": 20,
   "metadata": {
    "colab": {
     "base_uri": "https://localhost:8080/"
    },
    "id": "cb6iLNV8h0Xu",
    "outputId": "f4d50f15-b710-4943-ffdb-61ca448afaa3"
   },
   "outputs": [
    {
     "name": "stdout",
     "output_type": "stream",
     "text": [
      "Skewness (from moments): 0.04\n",
      "Kurtosis (from moments): -1.17\n"
     ]
    }
   ],
   "source": [
    "# Central moments\n",
    "n = len(sorted_numbers)\n",
    "\n",
    "# Mean (1st moment)\n",
    "mean_moment = mean_value\n",
    "\n",
    "# 2nd moment: Variance\n",
    "variance_moment = variance\n",
    "\n",
    "# 3rd moment: Skewness\n",
    "third_moment = sum((x - mean_value)**3 for x in sorted_numbers) / n\n",
    "skewness_moment = third_moment / (standard_deviation**3)\n",
    "\n",
    "# 4th moment: Kurtosis\n",
    "fourth_moment = sum((x - mean_value)**4 for x in sorted_numbers) / n\n",
    "kurtosis_moment = fourth_moment / (standard_deviation**4) - 3  # Adjust for Fisher\n",
    "\n",
    "print(\"Skewness (from moments):\", round(skewness_moment, 2))\n",
    "print(\"Kurtosis (from moments):\", round(kurtosis_moment, 2))\n"
   ]
  }
 ],
 "metadata": {
  "colab": {
   "provenance": []
  },
  "kernelspec": {
   "display_name": "Python 3",
   "name": "python3"
  },
  "language_info": {
   "name": "python"
  }
 },
 "nbformat": 4,
 "nbformat_minor": 0
}
